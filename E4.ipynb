{
 "cells": [
  {
   "cell_type": "markdown",
   "id": "8e6632a0",
   "metadata": {
    "editable": true
   },
   "source": [
    "<!-- HTML file automatically generated from DocOnce source (https://github.com/doconce/doconce/)\n",
    "doconce format html exercisesweek37.do.txt  -->\n",
    "<!-- dom:TITLE: Exercises week 37 -->"
   ]
  },
  {
   "cell_type": "markdown",
   "id": "82705c4f",
   "metadata": {
    "editable": true
   },
   "source": [
    "# Exercises week 37\n",
    "**Implementing gradient descent for Ridge and ordinary Least Squares Regression**\n",
    "\n",
    "Date: **September 8-12, 2025**"
   ]
  },
  {
   "cell_type": "markdown",
   "id": "921bf331",
   "metadata": {
    "editable": true
   },
   "source": [
    "## Learning goals\n",
    "\n",
    "After having completed these exercises you will have:\n",
    "1. Your own code for the implementation of the simplest gradient descent approach applied to ordinary least squares (OLS) and Ridge regression\n",
    "\n",
    "2. Be able to compare the analytical expressions for OLS and Ridge regression with the gradient descent approach\n",
    "\n",
    "3. Explore the role of the learning rate in the gradient descent approach and the hyperparameter $\\lambda$ in Ridge regression\n",
    "\n",
    "4. Scale the data properly"
   ]
  },
  {
   "cell_type": "markdown",
   "id": "adff65d5",
   "metadata": {
    "editable": true
   },
   "source": [
    "## Simple one-dimensional second-order polynomial\n",
    "\n",
    "We start with a very simple function"
   ]
  },
  {
   "cell_type": "markdown",
   "id": "70418b3d",
   "metadata": {
    "editable": true
   },
   "source": [
    "$$\n",
    "f(x)= 2-x+5x^2,\n",
    "$$"
   ]
  },
  {
   "cell_type": "markdown",
   "id": "11a3cf73",
   "metadata": {
    "editable": true
   },
   "source": [
    "defined for $x\\in [-2,2]$. You can add noise if you wish. \n",
    "\n",
    "We are going to fit this function with a polynomial ansatz. The easiest thing is to set up a second-order polynomial and see if you can fit the above function.\n",
    "Feel free to play around with higher-order polynomials."
   ]
  },
  {
   "cell_type": "code",
   "execution_count": 183,
   "id": "e538e3b0",
   "metadata": {},
   "outputs": [],
   "source": [
    "import numpy as np\n",
    "import matplotlib.pyplot as plt"
   ]
  },
  {
   "cell_type": "markdown",
   "id": "04a06b51",
   "metadata": {
    "editable": true
   },
   "source": [
    "## Exercise 1, scale your data\n",
    "\n",
    "Before fitting a regression model, it is good practice to normalize or\n",
    "standardize the features. This ensures all features are on a\n",
    "comparable scale, which is especially important when using\n",
    "regularization. Here we will perform standardization, scaling each\n",
    "feature to have mean 0 and standard deviation 1."
   ]
  },
  {
   "cell_type": "markdown",
   "id": "408db3d9",
   "metadata": {
    "editable": true
   },
   "source": [
    "### 1a)\n",
    "\n",
    "Compute the mean and standard deviation of each column (feature) in your design/feature matrix $\\boldsymbol{X}$.\n",
    "Subtract the mean and divide by the standard deviation for each feature.\n",
    "\n",
    "We will also center the target $\\boldsymbol{y}$ to mean $0$. Centering $\\boldsymbol{y}$\n",
    "(and each feature) means the model does not require a separate intercept\n",
    "term, the data is shifted such that the intercept is effectively 0\n",
    ". (In practice, one could include an intercept in the model and not\n",
    "penalize it, but here we simplify by centering.)\n",
    "Choose $n=100$ data points and set up $\\boldsymbol{x}, $\\boldsymbol{y}$ and the design matrix $\\boldsymbol{X}$."
   ]
  },
  {
   "cell_type": "code",
   "execution_count": 184,
   "id": "5e3ead79",
   "metadata": {},
   "outputs": [],
   "source": [
    "x = np.linspace(-2, 2, 100)\n",
    "noise = np.random.normal(0, 0.2, x.shape[0])\n",
    "\n",
    "y = 2 - x + 5*x**2 + noise"
   ]
  },
  {
   "cell_type": "code",
   "execution_count": 185,
   "id": "ea8a550e",
   "metadata": {},
   "outputs": [],
   "source": [
    "# Taken from E3\n",
    "def polynomial_features(x, p, intercept=False):\n",
    "    lowest = 0 if intercept else 1\n",
    "    orders = np.arange(lowest, p + 1)\n",
    "    exp, base = np.meshgrid(orders, x)\n",
    "    return base ** exp"
   ]
  },
  {
   "cell_type": "code",
   "execution_count": 186,
   "id": "37fb732c",
   "metadata": {
    "collapsed": false,
    "editable": true
   },
   "outputs": [],
   "source": [
    "X = polynomial_features(x, 2, intercept=False)\n",
    "\n",
    "# Standardize features (zero mean, unit variance for each feature)\n",
    "X_mean = X.mean(axis=0)\n",
    "X_std = X.std(axis=0)\n",
    "X_std[X_std == 0] = 1  # safeguard to avoid division by zero for constant features\n",
    "X_norm = (X - X_mean) / X_std\n",
    "\n",
    "# Center the target to zero mean (optional, to simplify intercept handling)\n",
    "y_mean = y.mean()\n",
    "y_centered = y - y_mean"
   ]
  },
  {
   "cell_type": "markdown",
   "id": "d861e1e3",
   "metadata": {
    "editable": true
   },
   "source": [
    "Fill in the necessary details. Do we need to center the $y$-values? \n",
    "\n",
    "After this preprocessing, each column of $\\boldsymbol{X}_{\\mathrm{norm}}$ has mean zero and standard deviation $1$\n",
    "and $\\boldsymbol{y}_{\\mathrm{centered}}$ has mean 0. This makes the optimization landscape\n",
    "nicer and ensures the regularization penalty $\\lambda \\sum_j\n",
    "\\theta_j^2$ in Ridge regression treats each coefficient fairly (since features are on the\n",
    "same scale)."
   ]
  },
  {
   "cell_type": "markdown",
   "id": "b3e774d0",
   "metadata": {
    "editable": true
   },
   "source": [
    "## Exercise 2, calculate the gradients\n",
    "\n",
    "Find the gradients for OLS and Ridge regression using the mean-squared error as cost/loss function."
   ]
  },
  {
   "cell_type": "markdown",
   "id": "e283dff1",
   "metadata": {},
   "source": [
    "**Solution**\n",
    "This is very similar to previous weeks. We'll start with the derivative for Ridge regression:\n",
    "\n",
    "\\begin{align*}\n",
    "\\nabla\\boldsymbol{C}\n",
    "    &= \\frac{\\partial}{\\partial\\boldsymbol{\\theta}}\\left(\\frac{1}{n}\n",
    "            (\\boldsymbol{y}-\\boldsymbol{X}\\boldsymbol{\\theta})^T(\\boldsymbol{y}-\\boldsymbol{X}\\boldsymbol{\\theta}) + \\lambda\\boldsymbol{\\theta}^T\\boldsymbol{\\theta}\n",
    "        \\right) \\\\\n",
    "\n",
    "&=    \n",
    "    \\left(- 2\\frac{1}{n}(\\boldsymbol{y}-\\boldsymbol{X}\\boldsymbol{{\\boldsymbol{\\theta}}})^T\\boldsymbol{X}\n",
    "    + 2\\lambda{\\boldsymbol{\\theta}}^T\\right) \\\\\n",
    "\n",
    "&= 2\\left(\\frac{1}{n}(\\boldsymbol{X}\\boldsymbol{{\\boldsymbol{\\theta}}} - \\boldsymbol{y})^T\\boldsymbol{X}\n",
    "    + \\lambda{\\boldsymbol{\\theta}}^T\\right)\\\\\n",
    "\n",
    "&= 2\\left(\\frac{1}{n}\\boldsymbol{X}^T(\\boldsymbol{X}\\boldsymbol{{\\boldsymbol{\\theta}}} - \\boldsymbol{y})\n",
    "    + \\lambda{\\boldsymbol{\\theta}}\\right)\\\\\n",
    "\n",
    "\\end{align*}\n",
    "\n",
    "From this, we can clearly see the OLS solution by setting $\\lambda=0$.\n",
    "\n",
    "$$\n",
    "\\nabla\\boldsymbol{C}=\\frac{2}{n}\\boldsymbol{X}^T(\\boldsymbol{X}\\boldsymbol{{\\boldsymbol{\\theta}}} - \\boldsymbol{y})\n",
    "$$"
   ]
  },
  {
   "cell_type": "code",
   "execution_count": 187,
   "id": "71441688",
   "metadata": {},
   "outputs": [],
   "source": [
    "# OLS gradient\n",
    "# n = x.shape[0]\n",
    "def ols_grad(X, y, theta):\n",
    "    return (2/y.shape[0]) * X.T@(X@theta - y)\n",
    "\n",
    "def ridge_grad(X, y, theta, lam=0):\n",
    "    return 2 * ((1/y.shape[0]) * X.T@(X@theta - y) + lam*theta)\n"
   ]
  },
  {
   "cell_type": "markdown",
   "id": "d5dc7708",
   "metadata": {
    "editable": true
   },
   "source": [
    "## Exercise 3, using the analytical formulae for OLS and Ridge regression to find the optimal paramters $\\boldsymbol{\\theta}$"
   ]
  },
  {
   "cell_type": "code",
   "execution_count": 188,
   "id": "4c9c86ac",
   "metadata": {
    "collapsed": false,
    "editable": true
   },
   "outputs": [
    {
     "name": "stdout",
     "output_type": "stream",
     "text": [
      "Closed-form Ridge coefficients: [-1.15864696  6.01794688]\n",
      "Closed-form OLS coefficients: [-1.17023343  6.07812634]\n"
     ]
    }
   ],
   "source": [
    "# Set regularization parameter, either a single value or a vector of values\n",
    "# Note that lambda is a python keyword. The lambda keyword is used to create small, single-expression functions without a formal name. These are often called \"anonymous functions\" or \"lambda functions.\"\n",
    "lam = 1\n",
    "\n",
    "\n",
    "# Analytical form for OLS and Ridge solution: theta_Ridge = (X^T X + lambda * I)^{-1} X^T y and theta_OLS = (X^T X)^{-1} X^T y\n",
    "I = np.eye(2)\n",
    "theta_closed_formRidge = np.linalg.inv(X_norm.T @ X_norm + lam*np.identity(X.shape[1])) @ X_norm.T @ y_centered\n",
    "theta_closed_formOLS = np.linalg.inv(X_norm.T@X_norm)@X_norm.T@y_centered\n",
    "\n",
    "print(\"Closed-form Ridge coefficients:\", theta_closed_formRidge)\n",
    "print(\"Closed-form OLS coefficients:\", theta_closed_formOLS)"
   ]
  },
  {
   "cell_type": "markdown",
   "id": "eeae00fd",
   "metadata": {
    "editable": true
   },
   "source": [
    "This computes the Ridge and OLS regression coefficients directly. The identity\n",
    "matrix $I$ has the same size as $X^T X$. It adds $\\lambda$ to the diagonal of $X^T X$ for Ridge regression. We\n",
    "then invert this matrix and multiply by $X^T y$. The result\n",
    "for $\\boldsymbol{\\theta}$  is a NumPy array of shape (n$\\_$features,) containing the\n",
    "fitted parameters $\\boldsymbol{\\theta}$."
   ]
  },
  {
   "cell_type": "markdown",
   "id": "e1c215d5",
   "metadata": {
    "editable": true
   },
   "source": [
    "### 3a)\n",
    "\n",
    "Finalize, in the above code, the OLS and Ridge regression determination of the optimal parameters $\\boldsymbol{\\theta}$."
   ]
  },
  {
   "cell_type": "markdown",
   "id": "587dd3dc",
   "metadata": {
    "editable": true
   },
   "source": [
    "### 3b)\n",
    "\n",
    "Explore the results as function of different values of the hyperparameter $\\lambda$. See for example exercise 4 from week 36."
   ]
  },
  {
   "cell_type": "code",
   "execution_count": 189,
   "id": "34b5d08f",
   "metadata": {},
   "outputs": [],
   "source": [
    "lams = np.logspace(-4,4, 100)\n",
    "\n",
    "def ridge (X, y, lam): return np.linalg.inv(X.T @ X + lam*np.identity(X.shape[1])) @ X.T @ y\n",
    "\n",
    "ridge_coef = np.array([ridge(X_norm, y_centered, l) for l in lams])"
   ]
  },
  {
   "cell_type": "code",
   "execution_count": 190,
   "id": "385399f4",
   "metadata": {},
   "outputs": [
    {
     "data": {
      "text/plain": [
       "<matplotlib.legend.Legend at 0x11ec396a0>"
      ]
     },
     "execution_count": 190,
     "metadata": {},
     "output_type": "execute_result"
    },
    {
     "data": {
      "image/png": "[encoded data removed]",
      "text/plain": [
       "<Figure size 640x480 with 1 Axes>"
      ]
     },
     "metadata": {},
     "output_type": "display_data"
    }
   ],
   "source": [
    "fig, ax = plt.subplots()\n",
    "\n",
    "a1 = 'peru'\n",
    "a2 = 'olive'\n",
    "\n",
    "ax.plot(lams, ridge_coef[:, 0], c=a1, label=r'$\\theta_1$, Ridge')\n",
    "ax.axhline(theta_closed_formOLS[0], ls='--', c=a1, label=r'$\\theta_1$, OLS')\n",
    "\n",
    "ax.plot(lams, ridge_coef[:, 1], c=a2, label=r'$\\theta_2$, Ridge')\n",
    "ax.axhline(theta_closed_formOLS[1], ls='--', c=a2, label=r'$\\theta_2$, OLS')\n",
    "\n",
    "ax.set_xscale('log')\n",
    "ax.set_xlabel(r'$\\lambda$')\n",
    "ax.set_ylabel('optimal parameter value')\n",
    "ax.set_title(r'$\\lambda$-response for fits to $\\theta_1x + \\theta_2x^2$')\n",
    "ax.legend()"
   ]
  },
  {
   "cell_type": "code",
   "execution_count": null,
   "id": "fd6de3dc",
   "metadata": {},
   "outputs": [],
   "source": [
    "# TODO: Add MSE plot"
   ]
  },
  {
   "cell_type": "markdown",
   "id": "bfa34697",
   "metadata": {
    "editable": true
   },
   "source": [
    "## Exercise 4, Implementing the simplest form for gradient descent\n",
    "\n",
    "Alternatively, we can fit the ridge regression model using gradient\n",
    "descent. This is useful to visualize the iterative convergence and is\n",
    "necessary if $n$ and $p$ are so large that the closed-form might be\n",
    "too slow or memory-intensive. We derive the gradients from the cost\n",
    "functions defined above. Use the gradients of the Ridge and OLS cost functions with respect to\n",
    "the parameters  $\\boldsymbol{\\theta}$ and set up (using the template below) your own gradient descent code for OLS and Ridge regression.\n",
    "\n",
    "Below is a template code for gradient descent implementation of ridge:"
   ]
  },
  {
   "cell_type": "code",
   "execution_count": 191,
   "id": "49245f55",
   "metadata": {
    "collapsed": false,
    "editable": true
   },
   "outputs": [
    {
     "name": "stdout",
     "output_type": "stream",
     "text": [
      "Gradient Descent OLS coefficients: [-0.78015562  4.05208423]\n",
      "Gradient Descent Ridge coefficients: [-0.78015562  4.05208423]\n"
     ]
    }
   ],
   "source": [
    "# Gradient descent parameters, learning rate eta first\n",
    "eta = 0.1\n",
    "# Then number of iterations\n",
    "num_iters = 1000\n",
    "\n",
    "# Initialize weights for gradient descent\n",
    "theta = np.zeros(2)\n",
    "theta_gdOLS = theta\n",
    "theta_gdRidge = theta\n",
    "\n",
    "# Gradient descent loop\n",
    "for t in range(num_iters):\n",
    "    # Compute gradients for OSL and Ridge\n",
    "    grad_OLS = ols_grad(X_norm, y_centered, theta_gdOLS)\n",
    "    grad_Ridge = ridge_grad(X_norm, y_centered, theta_gdRidge, lam=lam)\n",
    "    # Update parameters theta\n",
    "    theta_gdOLS -= eta*grad_OLS\n",
    "    theta_gdRidge -= eta*grad_Ridge\n",
    "\n",
    "# After the loop, theta contains the fitted coefficients\n",
    "print(\"Gradient Descent OLS coefficients:\", theta_gdOLS)\n",
    "print(\"Gradient Descent Ridge coefficients:\", theta_gdRidge)"
   ]
  },
  {
   "cell_type": "markdown",
   "id": "f3f43f2c",
   "metadata": {
    "editable": true
   },
   "source": [
    "### 4a)\n",
    "\n",
    "Write first a gradient descent code for OLS only using the above template.\n",
    "Discuss the results as function of the learning rate parameters and the number of iterations"
   ]
  },
  {
   "cell_type": "code",
   "execution_count": 192,
   "id": "e405a583",
   "metadata": {},
   "outputs": [],
   "source": [
    "# Let's do the same as above, but loop over eta & num_iters\n",
    "\n",
    "n = 15 # repeat grad. descent for nxn combinations of eta & num_iters\n",
    "etas = np.logspace(-6,-2, n)\n",
    "iters = np.logspace(0,5, n)\n",
    "\n",
    "es, ns = np.meshgrid(etas, iters)\n",
    "\n",
    "def descend_ols(X, y, eta, num_iters):\n",
    "    theta = np.zeros(X.shape[1])\n",
    "    for _ in range(int(np.round(num_iters))):\n",
    "        theta -= eta*ols_grad(X, y, theta)\n",
    "    return theta\n",
    "\n",
    "\n",
    "def descend(eta, num_iters):\n",
    "    return descend_ols(X_norm, y_centered, eta, num_iters)\n",
    "\n",
    "descend_vec = np.vectorize(descend, signature='(),()->(2)')\n",
    "\n",
    "thetas = descend_vec(es, ns)"
   ]
  },
  {
   "cell_type": "code",
   "execution_count": 204,
   "id": "201466b4",
   "metadata": {},
   "outputs": [],
   "source": [
    "# Now that we have the parameters, we can calculate the MSE for each\n",
    "def MSE(X, y, theta):\n",
    "    return np.sum((X@theta - y)**2)/y.shape[0]\n",
    "\n",
    "MSE_vec = np.vectorize(lambda t: MSE(X_norm, y_centered, t), signature='(2)->()')\n",
    "\n",
    "errors = MSE_vec(thetas)"
   ]
  },
  {
   "cell_type": "code",
   "execution_count": 193,
   "id": "f4cdf1c7",
   "metadata": {},
   "outputs": [],
   "source": [
    "import matplotlib as mpl"
   ]
  },
  {
   "cell_type": "code",
   "execution_count": 194,
   "id": "1c1ae11f",
   "metadata": {},
   "outputs": [
    {
     "data": {
      "image/png": "[encoded data removed]",
      "text/plain": [
       "<Figure size 640x480 with 3 Axes>"
      ]
     },
     "metadata": {},
     "output_type": "display_data"
    }
   ],
   "source": [
    "a1 = (theta_closed_formOLS[0] - thetas[:, :, 0]) / theta_closed_formOLS[0]\n",
    "a2 = (theta_closed_formOLS[1] - thetas[:, :, 1]) / theta_closed_formOLS[1]\n",
    "\n",
    "norm = mpl.colors.Normalize(vmin=np.min([a1, a2]), vmax=np.max([a1, a2]))\n",
    "cmap = mpl.colormaps['magma']\n",
    "mappable = mpl.cm.ScalarMappable(norm=norm, cmap=cmap)\n",
    "\n",
    "fig, axs = plt.subplots(2, sharex=True)\n",
    "\n",
    "ax = axs[0]\n",
    "\n",
    "ax.contourf(es, ns, a1, levels=100, cmap=cmap, norm=norm)\n",
    "\n",
    "ax.set_xscale('log')\n",
    "ax.set_yscale('log')\n",
    "ax.set_title(r'$\\theta_1$')\n",
    "\n",
    "ax = axs[1]\n",
    "\n",
    "ax.contourf(es, ns, a2, levels=100, cmap=cmap, norm=norm)\n",
    "ax.set_yscale('log')\n",
    "ax.set_title(r'$\\theta_2$')\n",
    "\n",
    "fig.supylabel('Number of iterations')\n",
    "fig.supxlabel(r'Learning rate $\\eta$')\n",
    "fig.colorbar(mappable, ax=axs, label=r'relative error, $|\\theta_{OLS}-\\theta|/\\theta_{OLS}$')\n",
    "fig.suptitle(r'Parameter error in $\\nabla$-descent fits');\n"
   ]
  },
  {
   "cell_type": "markdown",
   "id": "dca6166a",
   "metadata": {},
   "source": [
    "### Discussion\n",
    "One sees above that for this problem, the optimal parameters are found quickly with a high learning rate. Smaller learning rates need more iterations to find the right parameters."
   ]
  },
  {
   "cell_type": "markdown",
   "id": "9ba303be",
   "metadata": {
    "editable": true
   },
   "source": [
    "### 4b)\n",
    "\n",
    "Write then a similar code for Ridge regression using the above template.\n",
    "Try to add a stopping parameter as function of the number iterations and the difference between the new and old $\\theta$ values. How would you define a stopping criterion?"
   ]
  },
  {
   "cell_type": "code",
   "execution_count": 195,
   "id": "d34a6807",
   "metadata": {},
   "outputs": [
    {
     "name": "stdout",
     "output_type": "stream",
     "text": [
      "Stopped after 5224 iterations\n"
     ]
    },
    {
     "data": {
      "text/plain": [
       "array([-0.58511671,  3.03906317])"
      ]
     },
     "execution_count": 195,
     "metadata": {},
     "output_type": "execute_result"
    }
   ],
   "source": [
    "def descend_ridge(X, y, eta, num_iters, atol=1e-8):\n",
    "    theta = np.zeros(X.shape[1])\n",
    "    for i in range(int(np.round(num_iters))):\n",
    "        grad = ridge_grad(X, y, theta, lam=lam)\n",
    "        theta -= eta*grad \n",
    "\n",
    "        # STOPPING CRITERION\n",
    "        if (np.linalg.norm(grad) < atol):\n",
    "            print(f'Stopped after {i} iterations')\n",
    "            break\n",
    "\n",
    "    return theta\n",
    "\n",
    "descend_ridge(X_norm, y_centered, 1e-3, 10000)"
   ]
  },
  {
   "cell_type": "markdown",
   "id": "78362c6c",
   "metadata": {
    "editable": true
   },
   "source": [
    "## Exercise 5, Ridge regression and a new Synthetic Dataset\n",
    "\n",
    "We create a synthetic linear regression dataset with a sparse\n",
    "underlying relationship. This means we have many features but only a\n",
    "few of them actually contribute to the target. In our example, we’ll\n",
    "use 10 features with only 3 non-zero weights in the true model. This\n",
    "way, the target is generated as a linear combination of a few features\n",
    "(with known coefficients) plus some random noise. The steps we include are:\n",
    "\n",
    "Decide on the number of samples and features (e.g. 100 samples, 10 features).\n",
    "Define the **true** coefficient vector with mostly zeros (for sparsity). For example, we set $\\hat{\\boldsymbol{\\theta}} = [5.0, -3.0, 0.0, 0.0, 0.0, 0.0, 2.0, 0.0, 0.0, 0.0]$, meaning only features 0, 1, and 6 have a real effect on y.\n",
    "\n",
    "Then we sample feature values for $\\boldsymbol{X}$ randomly (e.g. from a normal distribution). We use a normal distribution so features are roughly centered around 0.\n",
    "Then we compute the target values $y$ using the linear combination $\\boldsymbol{X}\\hat{\\boldsymbol{\\theta}}$ and add some noise (to simulate measurement error or unexplained variance).\n",
    "\n",
    "Below is the code to generate the dataset:"
   ]
  },
  {
   "cell_type": "code",
   "execution_count": 196,
   "id": "8be1cebe",
   "metadata": {
    "collapsed": false,
    "editable": true
   },
   "outputs": [],
   "source": [
    "import numpy as np\n",
    "\n",
    "# Set random seed for reproducibility\n",
    "np.random.seed(0)\n",
    "\n",
    "# Define dataset size\n",
    "n_samples = 100\n",
    "n_features = 10\n",
    "\n",
    "# Define true coefficients (sparse linear relationship)\n",
    "theta_true = np.array([5.0, -3.0, 0.0, 0.0, 0.0, 0.0, 2.0, 0.0, 0.0, 0.0])\n",
    "\n",
    "# Generate feature matrix X (n_samples x n_features) with random values\n",
    "X = np.random.randn(n_samples, n_features)  # standard normal distribution\n",
    "\n",
    "# Generate target values y with a linear combination of X and theta_true, plus noise\n",
    "noise = 0.5 * np.random.randn(n_samples)    # Gaussian noise\n",
    "y = X @ theta_true + noise"
   ]
  },
  {
   "cell_type": "markdown",
   "id": "e2693666",
   "metadata": {
    "editable": true
   },
   "source": [
    "This code produces a dataset where only features 0, 1, and 6\n",
    "significantly influence $\\boldsymbol{y}$. The rest of the features have zero true\n",
    "coefficient. For example, feature 0 has\n",
    "a true weight of 5.0, feature 1 has -3.0, and feature 6 has 2.0, so\n",
    "the expected relationship is:"
   ]
  },
  {
   "cell_type": "markdown",
   "id": "bc954d12",
   "metadata": {
    "editable": true
   },
   "source": [
    "$$\n",
    "y \\approx 5 \\times x_0 \\;-\\; 3 \\times x_1 \\;+\\; 2 \\times x_6 \\;+\\; \\text{noise}.\n",
    "$$"
   ]
  },
  {
   "cell_type": "markdown",
   "id": "6534b610",
   "metadata": {
    "editable": true
   },
   "source": [
    "You can remove the noise if you wish to. \n",
    "\n",
    "Try to fit the above data set using OLS and Ridge regression with the analytical expressions and your own gradient descent codes.\n",
    "\n",
    "If everything worked correctly, the learned coefficients should be\n",
    "close to the true values [5.0, -3.0, 0.0, …, 2.0, …] that we used to\n",
    "generate the data. Keep in mind that due to regularization and noise,\n",
    "the learned values will not exactly equal the true ones, but they\n",
    "should be in the same ballpark.  Which method (OLS or Ridge) gives the best results?"
   ]
  },
  {
   "cell_type": "code",
   "execution_count": 197,
   "id": "d5a10acd",
   "metadata": {},
   "outputs": [
    {
     "name": "stdout",
     "output_type": "stream",
     "text": [
      "OLS descent:\n",
      "[ 4.35050211 -2.30860703 -0.02939675  0.33171475 -0.31761574 -0.25067807\n",
      "  1.61221568  0.08008466 -0.20432029 -0.07656363]\n",
      "Ridge descent:\n",
      "[ 2.51448369 -1.25788453 -0.02624374  0.23999924 -0.24060565 -0.21573904\n",
      "  0.8840616   0.09840793 -0.22197575 -0.05965962]\n",
      "\n",
      "Comparison:\n",
      "     Truth       OLS     Ridge\n",
      "       5.0     4.351     2.514\n",
      "      -3.0    -2.309    -1.258\n",
      "       0.0    -0.029    -0.026\n",
      "       0.0     0.332     0.240\n",
      "       0.0    -0.318    -0.241\n",
      "       0.0    -0.251    -0.216\n",
      "       2.0     1.612     0.884\n",
      "       0.0     0.080     0.098\n",
      "       0.0    -0.204    -0.222\n",
      "       0.0    -0.077    -0.060\n"
     ]
    }
   ],
   "source": [
    "eta = 1e-5\n",
    "n = 1e5\n",
    "\n",
    "ols = descend_ols(X, y, eta, n)\n",
    "print('OLS descent:')\n",
    "print(ols)\n",
    "\n",
    "ridge = descend_ridge(X, y, eta, n)\n",
    "print('Ridge descent:')\n",
    "print(ridge)\n",
    "\n",
    "print()\n",
    "print('Comparison:')\n",
    "print(f'{'Truth':>10}{'OLS':>10}{'Ridge':>10}')\n",
    "for i in range(len(theta_true)):\n",
    "    print(f'{theta_true[i]:>10}{ols[i]:>10.3f}{ridge[i]:>10.3f}')\n",
    "# X.shape"
   ]
  },
  {
   "cell_type": "markdown",
   "id": "46ae1e1a",
   "metadata": {},
   "source": [
    "Every ridge parameter was suppressed, meaning that it did a worse job than OLS on nonzero parameters."
   ]
  }
 ],
 "metadata": {
  "kernelspec": {
   "display_name": ".venv (3.12.1)",
   "language": "python",
   "name": "python3"
  },
  "language_info": {
   "codemirror_mode": {
    "name": "ipython",
    "version": 3
   },
   "file_extension": ".py",
   "mimetype": "text/x-python",
   "name": "python",
   "nbconvert_exporter": "python",
   "pygments_lexer": "ipython3",
   "version": "3.12.1"
  }
 },
 "nbformat": 4,
 "nbformat_minor": 5
}
