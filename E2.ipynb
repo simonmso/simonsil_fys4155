{
 "cells": [
  {
   "cell_type": "markdown",
   "id": "b4005770",
   "metadata": {},
   "source": [
    "**Simon Silverstein**\n",
    "\n",
    "# Exercises week 35\n",
    "\n",
    "## Deriving and Implementing Ordinary Least Squares"
   ]
  },
  {
   "cell_type": "markdown",
   "id": "2ca1b589",
   "metadata": {},
   "source": [
    "This week you will be deriving the analytical expressions for linear regression, building up the model from scratch. This will include taking several derivatives of products of vectors and matrices. Such derivatives are central to the optimization of many machine learning models. Although we will often use automatic differentiation in actual calculations, to be able to have analytical expressions is extremely helpful in case we have simpler derivatives as well as when we analyze various properties (like second derivatives) of the chosen cost functions.\n",
    "\n",
    "Vectors are always written as boldfaced lower case letters and matrices as upper case boldfaced letters. You will find useful the notes from week 35 on derivatives of vectors and matrices. See also the textbook of Faisal at al, chapter 5 and in particular sections 5.3-5.5 at <https://github.com/CompPhysics/MachineLearning/blob/master/doc/Textbooks/MathMLbook.pdf>"
   ]
  },
  {
   "cell_type": "markdown",
   "id": "41e92bf9",
   "metadata": {},
   "source": [
    "### Learning goals\n",
    "\n",
    "After completing these exercises, you will know how to\n",
    "- Take the derivatives of simple products between vectors and matrices\n",
    "- Implement OLS using the analytical expressions\n",
    "- Create a feature matrix from a set of data\n",
    "- Create a feature matrix for a polynomial model\n",
    "- Evaluate the MSE score of various model on training and test data, and comparing their performance\n",
    "\n",
    "### Deliverables\n",
    "\n",
    "Complete the following exercises while working in a jupyter notebook. Then, in canvas, include\n",
    "- The jupyter notebook with the exercises completed\n",
    "- An exported PDF of the notebook (https://code.visualstudio.com/docs/datascience/jupyter-notebooks#_export-your-jupyter-notebook)"
   ]
  },
  {
   "cell_type": "markdown",
   "id": "f7a9209d",
   "metadata": {},
   "source": [
    "## How to take derivatives of Matrix-Vector expressions"
   ]
  },
  {
   "cell_type": "markdown",
   "id": "45f3712e",
   "metadata": {},
   "source": [
    "In these exercises it is always useful to write out with summation indices the various quantities. Take also a look at the weekly slides from week 35 and the various examples included there.\n",
    "\n",
    "As an example, consider the function\n",
    "\n",
    "$$\n",
    "f(\\boldsymbol{x}) =\\boldsymbol{A}\\boldsymbol{x},\n",
    "$$\n",
    "\n",
    "which reads for a specific component $f_i$ (we define the matrix $\\boldsymbol{A}$ to have dimension $n\\times n$ and the vector $\\boldsymbol{x}$ to have length $n$)\n",
    "\n",
    "$$\n",
    "f_i =\\sum_{j=0}^{n-1}a_{ij}x_j,\n",
    "$$\n",
    "\n",
    "which leads to\n",
    "\n",
    "$$\n",
    "\\frac{\\partial f_i}{\\partial x_j}= a_{ij},\n",
    "$$\n",
    "\n",
    "and written out in terms of the vector $\\boldsymbol{x}$ we have\n",
    "\n",
    "$$\n",
    "\\frac{\\partial f(\\boldsymbol{x})}{\\partial \\boldsymbol{x}}= \\boldsymbol{A}.\n",
    "$$"
   ]
  },
  {
   "cell_type": "markdown",
   "id": "5fa8a4e6",
   "metadata": {},
   "source": [
    "## Exercise 1 - Finding the derivative of Matrix-Vector expressions"
   ]
  },
  {
   "cell_type": "markdown",
   "id": "df7a2270",
   "metadata": {},
   "source": [
    "**a)** Consider the expression\n",
    "\n",
    "$$\n",
    "\\frac{\\partial (\\boldsymbol{a}^T\\boldsymbol{x})}{\\partial \\boldsymbol{x}},\n",
    "$$\n",
    "\n",
    "Where $\\boldsymbol{a}$ and $\\boldsymbol{x}$ are column-vectors with length $n$.\n",
    "\n",
    "What is the *shape* of the expression we are taking the derivative of?\n",
    "\n",
    "**The shape is $1\\times 1$**\n",
    "\n",
    "What is the *shape* of the thing we are taking the derivative with respect to?\n",
    "\n",
    "**The shape is $n\\times 1$**\n",
    "\n",
    "What is the *shape* of the result of the expression?\n",
    "\n",
    "**The result will be $n\\times 1$**"
   ]
  },
  {
   "cell_type": "markdown",
   "id": "c0396734",
   "metadata": {},
   "source": [
    "**b)** Show that\n",
    "\n",
    "$$\n",
    "\\frac{\\partial (\\boldsymbol{a}^T\\boldsymbol{x})}{\\partial \\boldsymbol{x}} = \\boldsymbol{a}^T,\n",
    "$$\n",
    "\n",
    "\n",
    "**Pf.**\n",
    "\n",
    "\\begin{align*}\n",
    "LHS &= \\frac{\\partial (\\boldsymbol{a}^T\\boldsymbol{x})}{\\partial \\boldsymbol{x}} \\\\\n",
    "&= \\frac{\\partial}{\\partial \\boldsymbol{x}} \\left(\\sum_ia_ix_i\\right) \\\\\n",
    "&= \\boldsymbol{q}\n",
    "\\end{align*}\n",
    "\n",
    "where we're calling that whole mess $\\boldsymbol{q}$ to make it easier to index. The $j$ -th element of this vector is\n",
    "\n",
    "\\begin{align*}\n",
    "q_j &= \\frac{\\partial}{\\partial x_j} \\left(\\sum_ia_ix_i\\right) \\\\\n",
    "&= \\sum_i \\left(\\frac{\\partial}{\\partial x_j}a_ix_i\\right) \\\\\n",
    "&= a_j\n",
    "\\end{align*}\n",
    "\n",
    "since\n",
    "\n",
    "$$\n",
    "\\frac{\\partial}{\\partial x_j}a_ix_i = \\begin{cases}\n",
    "    a_j & \\text{if } j=i \\\\\n",
    "    0 & \\text{otherwise}.\n",
    "\\end{cases}\n",
    "$$\n",
    "\n",
    "$q_j=a_j$ implies that \n",
    "\n",
    "$$\n",
    "\\frac{\\partial}{\\partial \\boldsymbol{x}} \\left(\\sum_ia_ix_i\\right) = \\boldsymbol{q} = \\boldsymbol{a}^T = RHS\n",
    "$$\n",
    "\n",
    "and we're done."
   ]
  },
  {
   "cell_type": "markdown",
   "id": "dc39d541",
   "metadata": {},
   "source": [
    "**c)** Show that\n",
    "\n",
    "$$\n",
    "\\frac{\\partial (\\boldsymbol{a}^T\\boldsymbol{A}\\boldsymbol{a})}{\\partial \\boldsymbol{a}} = \\boldsymbol{a}^T(\\boldsymbol{A}+\\boldsymbol{A}^T),\n",
    "$$\n",
    "\n",
    "**Pf.**\n",
    "\n",
    "\\begin{align*}\n",
    "\\frac{\\partial}{\\partial \\boldsymbol{a}}\\boldsymbol{a}^T\\boldsymbol{A}\\boldsymbol{a} &=\n",
    "     \\left(\\frac{\\partial}{\\partial \\boldsymbol{a}}\\boldsymbol{a}^T\\right)\\boldsymbol{A}\\boldsymbol{a}\n",
    "     + \\boldsymbol{a}^T\\left(\\frac{\\partial}{\\partial \\boldsymbol{a}}\\boldsymbol{A}\\boldsymbol{a}\\right) \\\\\n",
    "\n",
    "&= \\boldsymbol{A}\\boldsymbol{a}\n",
    "     + \\boldsymbol{a}^T\\boldsymbol{A} \\\\\n",
    "\n",
    "&= \\boldsymbol{a}^T\\boldsymbol{A}^T+ \\boldsymbol{a}^T\\boldsymbol{A} \\\\\n",
    "\n",
    "&= \\boldsymbol{a}^T(\\boldsymbol{A}+\\boldsymbol{A}^T)\n",
    "\n",
    "\\end{align*}\n"
   ]
  },
  {
   "cell_type": "markdown",
   "id": "498d13ec",
   "metadata": {},
   "source": [
    "## Exercise 2 - Deriving the expression for OLS"
   ]
  },
  {
   "cell_type": "markdown",
   "id": "f3f771de",
   "metadata": {},
   "source": [
    "The ordinary least squares method finds the parameters $\\boldsymbol{\\theta}$ which minimizes the squared error between our model $\\boldsymbol{X\\theta}$ and the true values $\\boldsymbol{y}$.\n",
    "\n",
    "To find the parameters $\\boldsymbol{\\theta}$ which minimizes this error, we take the derivative of the squared error expression with respect to $\\boldsymbol{\\theta}$, and set it equal to 0."
   ]
  },
  {
   "cell_type": "markdown",
   "id": "49690237",
   "metadata": {},
   "source": [
    "**a)** Very briefly explain why the approach above finds the parameters $\\boldsymbol{\\theta}$ which minimizes this error.\n",
    "\n",
    "**Setting the derivative to 0 ensures that you have a local minimum or maximum. Since the expression is a quantity squared, it must be a minimum and it must be global.**"
   ]
  },
  {
   "cell_type": "markdown",
   "id": "b7cccc9d",
   "metadata": {},
   "source": [
    "We typically write the squared error as\n",
    "\n",
    "$$\n",
    "\\vert\\vert\\boldsymbol{y} - \\boldsymbol{X\\theta}\\vert\\vert^2\n",
    "$$\n",
    "\n",
    "which we can rewrite in matrix-vector form as\n",
    "\n",
    "$$\n",
    "\\left(\\boldsymbol{y}-\\boldsymbol{X}\\boldsymbol{\\theta}\\right)^T\\left(\\boldsymbol{y}-\\boldsymbol{X}\\boldsymbol{\\theta}\\right)\n",
    "$$"
   ]
  },
  {
   "cell_type": "markdown",
   "id": "8fbecf74",
   "metadata": {},
   "source": [
    "**b)** If $\\boldsymbol{X}$ is invertible, what is the expression for the optimal parameters $\\boldsymbol{\\theta}$? (**Hint:** Don't compute any derivatives, but solve $\\boldsymbol{X\\theta}=\\boldsymbol{y}$ for $\\boldsymbol{\\theta}$)\n",
    "\n",
    "$\\boldsymbol{\\theta} = \\boldsymbol{X}^{-1}\\boldsymbol{y}$"
   ]
  },
  {
   "cell_type": "markdown",
   "id": "f37af8f0",
   "metadata": {},
   "source": [
    "**c)** Show that\n",
    "\n",
    "$$\n",
    "\\frac{\\partial \\left(\\boldsymbol{x}-\\boldsymbol{A}\\boldsymbol{s}\\right)^T\\left(\\boldsymbol{x}-\\boldsymbol{A}\\boldsymbol{s}\\right)}{\\partial \\boldsymbol{s}} = -2\\left(\\boldsymbol{x}-\\boldsymbol{A}\\boldsymbol{s}\\right)^T\\boldsymbol{A},\n",
    "$$\n",
    "\n",
    "**Pf.**\n",
    "\n",
    "\\begin{align*}\n",
    "LHS &= \\frac{\\partial \\left(\\boldsymbol{x}-\\boldsymbol{A}\\boldsymbol{s}\\right)^T\\left(\\boldsymbol{x}-\\boldsymbol{A}\\boldsymbol{s}\\right)}{\\partial \\boldsymbol{s}} \\\\\n",
    "\n",
    "&= \\left(\\frac{\\partial}{\\partial \\boldsymbol{s}}  (\\boldsymbol{x}-\\boldsymbol{A}\\boldsymbol{s})^T \\right)(\\boldsymbol{x}-\\boldsymbol{A}\\boldsymbol{s})\n",
    "    + (\\boldsymbol{x}-\\boldsymbol{A}\\boldsymbol{s})^T\\frac{\\partial}{\\partial \\boldsymbol{s}}(\\boldsymbol{x}-\\boldsymbol{A}\\boldsymbol{s}) \\\\\n",
    "\n",
    "&= \\left(\\frac{\\partial}{\\partial \\boldsymbol{s}}  (\\boldsymbol{x}-\\boldsymbol{A}\\boldsymbol{s}) \\right)^T(\\boldsymbol{x}-\\boldsymbol{A}\\boldsymbol{s})\n",
    "    - (\\boldsymbol{x}-\\boldsymbol{A}\\boldsymbol{s})^T\\boldsymbol{A} \\\\\n",
    "\n",
    "&= -\\boldsymbol{A}^T(\\boldsymbol{x}-\\boldsymbol{A}\\boldsymbol{s}) - (\\boldsymbol{x}-\\boldsymbol{A}\\boldsymbol{s})^T\\boldsymbol{A} \\\\\n",
    "\n",
    "&= -(\\boldsymbol{x}-\\boldsymbol{A}\\boldsymbol{s})^T\\boldsymbol{A} - (\\boldsymbol{x}-\\boldsymbol{A}\\boldsymbol{s})^T\\boldsymbol{A} \\\\\n",
    "\n",
    "&= -2(\\boldsymbol{x}-\\boldsymbol{A}\\boldsymbol{s})^T\\boldsymbol{A} \\\\\n",
    "\n",
    "&= RHS\n",
    "\n",
    "\n",
    "\\end{align*}"
   ]
  },
  {
   "cell_type": "markdown",
   "id": "869fca4d",
   "metadata": {},
   "source": [
    "**d)** Using the expression from **c)**, but substituting back in $\\boldsymbol{\\theta}$, $\\boldsymbol{y}$ and $\\boldsymbol{X}$, find the expression for the optimal parameters $\\boldsymbol{\\theta}$ in the case that $\\boldsymbol{X}$ is not invertible, but $\\boldsymbol{X^T X}$ is, which is most often the case.\n",
    "\n",
    "$$\n",
    "\\boldsymbol{\\hat{\\theta}_{OLS}} = (\\boldsymbol{X^T X})^{-1}\\boldsymbol{X}^Ty\n",
    "$$"
   ]
  },
  {
   "cell_type": "markdown",
   "id": "57ca3d74",
   "metadata": {},
   "source": [
    "## Exercise 3 - Creating feature matrix and implementing OLS using the analytical expression"
   ]
  },
  {
   "cell_type": "markdown",
   "id": "5dc179f7",
   "metadata": {},
   "source": [
    "With the expression for $\\boldsymbol{\\hat{\\theta}_{OLS}}$, you now have what you need to implement OLS regression with your input data and target data $\\boldsymbol{y}$. But before you can do that, you need to set up you input data as a feature matrix $\\boldsymbol{X}$.\n",
    "\n",
    "In a feature matrix, each row is a datapoint and each column is a feature of that data. If you want to predict someones spending based on their income and number of children, for instance, you would create a row for each person in your dataset, with the montly income and the number of children as columns.\n",
    "\n",
    "We typically also include an intercept in our models. The intercept is a value that is added to our prediction regardless of the value of the other features. The intercept tries to account for constant effects in our data that are not dependant on anything else. In our current example, the intercept could account for living expenses which are typical regardless of income or childcare expenses.\n",
    "\n",
    "We calculate the optimal intercept by including a feature with the constant value of 1 in our model, which is then multplied by some parameter $\\theta_0$ from the OLS method into the optimal intercept value (which will be $\\theta_0$). In practice, we include the intercept in our model by adding a column of ones to the start of our feature matrix."
   ]
  },
  {
   "cell_type": "code",
   "execution_count": 1,
   "id": "e5ff2a69",
   "metadata": {},
   "outputs": [],
   "source": [
    "import numpy as np"
   ]
  },
  {
   "cell_type": "code",
   "execution_count": 2,
   "id": "a3cf2792",
   "metadata": {},
   "outputs": [],
   "source": [
    "n = 20\n",
    "income = np.array([116., 161., 167., 118., 172., 163., 179., 173., 162., 116., 101., 176., 178., 172., 143., 135., 160., 101., 149., 125.])\n",
    "children = np.array([5, 3, 0, 4, 5, 3, 0, 4, 4, 3, 3, 5, 1, 0, 2, 3, 2, 1, 5, 4])\n",
    "spending = np.array([152., 141., 102., 136., 161., 129.,  99., 159., 160., 107.,  98., 164., 121.,  93., 112., 127., 117.,  69., 156., 131.])\n"
   ]
  },
  {
   "cell_type": "markdown",
   "id": "5da61481",
   "metadata": {},
   "source": [
    "**a)** Create a feature matrix $\\boldsymbol{X}$ for the features income and children, including an intercept column of ones at the start."
   ]
  },
  {
   "cell_type": "code",
   "execution_count": 3,
   "id": "5ad87a65",
   "metadata": {},
   "outputs": [],
   "source": [
    "X = np.array([\n",
    "    np.ones_like(income),\n",
    "    income,\n",
    "    children\n",
    "]).T\n",
    "y = spending"
   ]
  },
  {
   "cell_type": "markdown",
   "id": "e0ddfac2",
   "metadata": {},
   "source": [
    "**b)** Use the expression from **3d)** to find the optimal parameters $\\boldsymbol{\\hat{\\beta}_{OLS}}$ for predicting spending based on these features. Create a function for this operation, as you are going to need to use it a lot."
   ]
  },
  {
   "cell_type": "code",
   "execution_count": 4,
   "id": "8f3f68aa",
   "metadata": {},
   "outputs": [
    {
     "data": {
      "text/plain": [
       "array([ 9.12808583,  0.5119025 , 14.60743095])"
      ]
     },
     "execution_count": 4,
     "metadata": {},
     "output_type": "execute_result"
    }
   ],
   "source": [
    "def OLS_parameters(X, y):\n",
    "    return np.linalg.inv(X.T@X)@X.T@y\n",
    "\n",
    "beta = OLS_parameters(X, y)\n",
    "beta"
   ]
  },
  {
   "cell_type": "markdown",
   "id": "0cb6da80",
   "metadata": {},
   "source": [
    "## Exercise 4 - Fitting a polynomial"
   ]
  },
  {
   "cell_type": "markdown",
   "id": "71015064",
   "metadata": {},
   "source": [
    "In this course, we typically do linear regression using polynomials, though in real world applications it is also very common to make linear models based on measured features like you did in the previous exercise.\n",
    "\n",
    "When fitting a polynomial with linear regression, we make each polynomial degree($x, x^2, x^3, ..., x^p$) its own feature."
   ]
  },
  {
   "cell_type": "code",
   "execution_count": 5,
   "id": "d7476c84",
   "metadata": {},
   "outputs": [],
   "source": [
    "n = 100\n",
    "x = np.linspace(-3, 3, n)\n",
    "y = np.exp(-x**2) + 1.5 * np.exp(-(x-2)**2) + np.random.normal(0, 0.1)"
   ]
  },
  {
   "cell_type": "markdown",
   "id": "8321451b",
   "metadata": {},
   "source": [
    "**a)** Create a feature matrix $\\boldsymbol{X}$ for the features $x, x^2, x^3, x^4, x^5$, including an intercept column of ones at the start. Make this into a function, as you will do this a lot over the next weeks."
   ]
  },
  {
   "cell_type": "code",
   "execution_count": 6,
   "id": "91496e40",
   "metadata": {},
   "outputs": [
    {
     "data": {
      "text/plain": [
       "array([[   1.        ,   -3.        ,    9.        ,  -27.        ,\n",
       "          81.        , -243.        ],\n",
       "       [   1.        ,   -2.93939394,    8.64003673,  -25.3964716 ,\n",
       "          74.65023471, -219.42644749],\n",
       "       [   1.        ,   -2.87878788,    8.28741965,  -23.85772324,\n",
       "          68.68132447, -197.71896439],\n",
       "       [   1.        ,   -2.81818182,    7.94214876,  -22.38241923,\n",
       "          63.07772693, -177.76450317]])"
      ]
     },
     "execution_count": 6,
     "metadata": {},
     "output_type": "execute_result"
    }
   ],
   "source": [
    "def polynomial_features(x, p):\n",
    "    orders = np.arange(p + 1)\n",
    "    exp, base = np.meshgrid(orders, x)\n",
    "    return base ** exp\n",
    "\n",
    "X = polynomial_features(x, 5)\n",
    "X[:4]"
   ]
  },
  {
   "cell_type": "markdown",
   "id": "b84b1e31",
   "metadata": {},
   "source": [
    "**b)** Use the expression from **3d)** to find the optimal parameters $\\boldsymbol{\\hat{\\beta}_{OLS}}$ for predicting $\\boldsymbol{y}$ based on these features. If you have done everything right so far, this code will not need changing."
   ]
  },
  {
   "cell_type": "code",
   "execution_count": 7,
   "id": "034f502c",
   "metadata": {},
   "outputs": [
    {
     "data": {
      "text/plain": [
       "array([ 0.93458487,  0.27464654, -0.02326439,  0.05342623, -0.0034652 ,\n",
       "       -0.0087781 ])"
      ]
     },
     "execution_count": 7,
     "metadata": {},
     "output_type": "execute_result"
    }
   ],
   "source": [
    "beta = OLS_parameters(X, y)\n",
    "beta"
   ]
  },
  {
   "cell_type": "markdown",
   "id": "d703f788",
   "metadata": {},
   "source": [
    "**c)** Like in exercise 4 last week, split your feature matrix and target data into a training split and test split."
   ]
  },
  {
   "cell_type": "code",
   "execution_count": 8,
   "id": "29171358",
   "metadata": {},
   "outputs": [],
   "source": [
    "from sklearn.model_selection import train_test_split\n",
    "\n",
    "X_train, X_test, y_train, y_test = train_test_split(X, y, test_size=0.2)\n"
   ]
  },
  {
   "cell_type": "markdown",
   "id": "a0e3509f",
   "metadata": {},
   "source": [
    "**d)** Train your model on the training data(find the parameters which best fit) and compute the MSE on both the training and test data."
   ]
  },
  {
   "cell_type": "code",
   "execution_count": 9,
   "id": "1e346f4c",
   "metadata": {},
   "outputs": [
    {
     "name": "stdout",
     "output_type": "stream",
     "text": [
      "MSE_train 0.01353050428996282\n",
      "MSE_test 0.0158105333719111\n"
     ]
    }
   ],
   "source": [
    "beta_train = OLS_parameters(X_train, y_train)\n",
    "\n",
    "train_predict = np.sum(X_train*beta_train, axis=1)\n",
    "test_predict = np.sum(X_test*beta_train, axis=1)\n",
    "\n",
    "MSE_train = np.sum((y_train - train_predict)**2) / len(y_train)\n",
    "MSE_test = np.sum((y_test - test_predict)**2) / len(y_test)\n",
    "\n",
    "print('MSE_train', MSE_train)\n",
    "print('MSE_test', MSE_test)"
   ]
  },
  {
   "cell_type": "markdown",
   "id": "7e431889",
   "metadata": {},
   "source": [
    "**e)** Do the same for each polynomial degree from 2 to 10, and plot the MSE on both the training and test data as a function of polynomial degree. The aim is to reproduce Figure 2.11 of [Hastie et al](https://github.com/CompPhysics/MLErasmus/blob/master/doc/Textbooks/elementsstat.pdf). Feel free to read the discussions leading to figure 2.11 of Hastie et al. "
   ]
  },
  {
   "cell_type": "code",
   "execution_count": 10,
   "id": "e39507b9",
   "metadata": {},
   "outputs": [],
   "source": [
    "import matplotlib.pyplot as plt"
   ]
  },
  {
   "cell_type": "code",
   "execution_count": 11,
   "id": "ceb57457",
   "metadata": {},
   "outputs": [],
   "source": [
    "def train_to_order(x, y, p): # Function for fitting a pth degree polynomial\n",
    "    X = polynomial_features(x, p)\n",
    "    X_train, X_test, y_train, y_test = train_test_split(X, y, test_size=0.2)\n",
    "\n",
    "    beta = OLS_parameters(X_train, y_train)\n",
    "\n",
    "    train_predict = np.sum(X_train*beta, axis=1)\n",
    "    test_predict = np.sum(X_test*beta, axis=1)\n",
    "\n",
    "    MSE_train = np.sum((y_train - train_predict)**2) / len(y_train)\n",
    "    MSE_test = np.sum((y_test - test_predict)**2) / len(y_test)\n",
    "\n",
    "    return (MSE_train, MSE_test)\n",
    "\n",
    "ps = np.arange(2,11)\n",
    "\n",
    "MSE = np.array([train_to_order(x, y, p) for p in ps])"
   ]
  },
  {
   "cell_type": "code",
   "execution_count": 12,
   "id": "29722967",
   "metadata": {},
   "outputs": [
    {
     "data": {
      "text/plain": [
       "<matplotlib.legend.Legend at 0x11b952ba0>"
      ]
     },
     "execution_count": 12,
     "metadata": {},
     "output_type": "execute_result"
    },
    {
     "data": {
      "image/png": "[encoded data removed]",
      "text/plain": [
       "<Figure size 640x480 with 1 Axes>"
      ]
     },
     "metadata": {},
     "output_type": "display_data"
    }
   ],
   "source": [
    "fig, ax = plt.subplots()\n",
    "ax.plot(ps, MSE[:, 0], label='training')\n",
    "ax.plot(ps, MSE[:, 1], label='testing')\n",
    "ax.set_xlabel('Polynomial order')\n",
    "ax.set_ylabel('MSE')\n",
    "ax.set_title('MSE of polynomial fits of increasing order')\n",
    "ax.legend()"
   ]
  },
  {
   "cell_type": "markdown",
   "id": "5e5b5954",
   "metadata": {},
   "source": [
    "**f)** Interpret the graph. Why do the lines move as they do? What does it tell us about model performance and generalizability?"
   ]
  },
  {
   "cell_type": "markdown",
   "id": "ad2acfb9",
   "metadata": {},
   "source": [
    "**From the above graph, we see two things - first, that MSE decreases with model complexity, and second, that it does so similarly for both the training and the testing data. This implies that our model generalizes well to data it hasn't seen.**"
   ]
  },
  {
   "cell_type": "markdown",
   "id": "5994f0c5",
   "metadata": {},
   "source": [
    "## Exercise 5 - Comparing your code with sklearn"
   ]
  },
  {
   "cell_type": "markdown",
   "id": "8f595b7a",
   "metadata": {},
   "source": [
    "When implementing different algorithms for the first time, it can be helpful to double check your results with established implementations before you go on to add more complexity."
   ]
  },
  {
   "cell_type": "markdown",
   "id": "8ab310c1",
   "metadata": {},
   "source": [
    "**a)** Make sure your `polynomial_features` function creates the same feature matrix as sklearns PolynomialFeatures.\n",
    "\n",
    "(https://scikit-learn.org/stable/modules/generated/sklearn.preprocessing.PolynomialFeatures.html)"
   ]
  },
  {
   "cell_type": "code",
   "execution_count": 13,
   "id": "85b964d1",
   "metadata": {},
   "outputs": [],
   "source": [
    "from sklearn.preprocessing import PolynomialFeatures"
   ]
  },
  {
   "cell_type": "code",
   "execution_count": 31,
   "id": "51b5e8cf",
   "metadata": {},
   "outputs": [],
   "source": [
    "p = 7 # arbitrary\n",
    "\n",
    "mine = polynomial_features(x, p)\n",
    "theirs = PolynomialFeatures(p).fit_transform(np.reshape(x, (100, 1)))\n",
    "\n",
    "assert np.allclose(mine, theirs)"
   ]
  },
  {
   "cell_type": "markdown",
   "id": "73c32c52",
   "metadata": {},
   "source": [
    "**b)** Make sure your `OLS_parameters` function computes the same parameters as sklearns LinearRegression with fit_intercept set to False, since the intercept is included in the feature matrix. Use `your_model_object.coef_` to extract the computed parameters.\n",
    "\n",
    "(https://scikit-learn.org/stable/modules/generated/sklearn.linear_model.LinearRegression.html)"
   ]
  },
  {
   "cell_type": "code",
   "execution_count": 23,
   "id": "d01c2bb1",
   "metadata": {},
   "outputs": [],
   "source": [
    "from sklearn.linear_model import LinearRegression"
   ]
  },
  {
   "cell_type": "code",
   "execution_count": 32,
   "id": "35b04126",
   "metadata": {},
   "outputs": [],
   "source": [
    "features = polynomial_features(x, p)\n",
    "\n",
    "my_beta = OLS_parameters(features, y)\n",
    "their_beta = LinearRegression(fit_intercept=False).fit(features, y).coef_\n",
    "\n",
    "assert np.allclose(my_beta, their_beta)"
   ]
  }
 ],
 "metadata": {
  "kernelspec": {
   "display_name": ".venv (3.12.1)",
   "language": "python",
   "name": "python3"
  },
  "language_info": {
   "codemirror_mode": {
    "name": "ipython",
    "version": 3
   },
   "file_extension": ".py",
   "mimetype": "text/x-python",
   "name": "python",
   "nbconvert_exporter": "python",
   "pygments_lexer": "ipython3",
   "version": "3.12.1"
  }
 },
 "nbformat": 4,
 "nbformat_minor": 5
}
